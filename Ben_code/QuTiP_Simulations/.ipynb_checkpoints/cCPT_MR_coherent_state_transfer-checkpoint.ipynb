{
 "cells": [
  {
   "cell_type": "code",
   "execution_count": 30,
   "metadata": {
    "collapsed": true
   },
   "outputs": [],
   "source": [
    "import numpy as np\n",
    "import qutip as qt\n",
    "import matplotlib.pyplot as plt\n",
    "%matplotlib inline"
   ]
  },
  {
   "cell_type": "code",
   "execution_count": 31,
   "metadata": {},
   "outputs": [],
   "source": [
    "Nc = 100 # Size of cavity Fock space\n",
    "Nm = 100 # Size of mechanical Fock space\n",
    "a = qt.tensor(qt.destroy(Nc), qt.qeye(Nm)) # Annihilation operator on fock space\n",
    "b = qt.tensor(qt.qeye(Nc), qt.destroy(Nm))"
   ]
  },
  {
   "cell_type": "code",
   "execution_count": 32,
   "metadata": {
    "collapsed": true
   },
   "outputs": [],
   "source": [
    "# Define all energy scales relative to hbar omega_c so the hamiltonian is given by H/hbar*omega_c\n",
    "omega_c = 1.0\n",
    "omega_m = 0.005\n",
    "g0 = 0.15\n",
    "omega_drive = omega_c-omega_m\n",
    "\n",
    "A_drive = -0.01j\n"
   ]
  },
  {
   "cell_type": "code",
   "execution_count": 33,
   "metadata": {
    "collapsed": true
   },
   "outputs": [],
   "source": [
    "maxtime = 70 # Specified in periods of the driver \n",
    "tres = 50 # Specified in terms of the drive period\n",
    "tlist = np.linspace(0, maxtime*(2*np.pi/omega_drive), tres*maxtime+1) # maxtime and t resolution"
   ]
  },
  {
   "cell_type": "code",
   "execution_count": 34,
   "metadata": {},
   "outputs": [],
   "source": [
    "Hc = omega_c*(a.dag()*a)\n",
    "Hm = omega_m*(b.dag()*b)\n",
    "Hint = g0*(a+a.dag())*(b+b.dag())\n",
    "H0 = Hc + Hm + Hint\n",
    "\n",
    "Hdrive1_coeff = A_drive*np.exp(1.0j*omega_drive*tlist)\n",
    "Hdrive2_coeff = A_drive*np.exp(-1.0j*omega_drive*tlist)\n",
    "\n",
    "H = [H0,[a,Hdrive1_coeff],[a.dag(),Hdrive2_coeff]]"
   ]
  },
  {
   "cell_type": "raw",
   "metadata": {},
   "source": [
    "rho0 = qt.tensor(qt.fock(Nc,1),qt.basis(Nm,0))"
   ]
  },
  {
   "cell_type": "code",
   "execution_count": 35,
   "metadata": {},
   "outputs": [
    {
     "ename": "NameError",
     "evalue": "name 'rho0' is not defined",
     "output_type": "error",
     "traceback": [
      "\u001b[0;31m---------------------------------------------------------------------------\u001b[0m",
      "\u001b[0;31mNameError\u001b[0m                                 Traceback (most recent call last)",
      "\u001b[0;32m<ipython-input-35-47110804ef57>\u001b[0m in \u001b[0;36m<module>\u001b[0;34m()\u001b[0m\n\u001b[0;32m----> 1\u001b[0;31m \u001b[0mresult\u001b[0m \u001b[0;34m=\u001b[0m \u001b[0mqt\u001b[0m\u001b[0;34m.\u001b[0m\u001b[0mmesolve\u001b[0m\u001b[0;34m(\u001b[0m\u001b[0mH\u001b[0m\u001b[0;34m,\u001b[0m \u001b[0mrho0\u001b[0m\u001b[0;34m,\u001b[0m \u001b[0mtlist\u001b[0m\u001b[0;34m,\u001b[0m \u001b[0;34m[\u001b[0m\u001b[0;34m]\u001b[0m\u001b[0;34m,\u001b[0m \u001b[0;34m[\u001b[0m\u001b[0;34m]\u001b[0m\u001b[0;34m,\u001b[0m \u001b[0mprogress_bar\u001b[0m\u001b[0;34m=\u001b[0m\u001b[0;32mTrue\u001b[0m\u001b[0;34m)\u001b[0m\u001b[0;34m\u001b[0m\u001b[0m\n\u001b[0m",
      "\u001b[0;31mNameError\u001b[0m: name 'rho0' is not defined"
     ]
    }
   ],
   "source": [
    "result = qt.mesolve(H, rho0, tlist, [], [], progress_bar=True)"
   ]
  },
  {
   "cell_type": "code",
   "execution_count": null,
   "metadata": {
    "collapsed": true
   },
   "outputs": [],
   "source": []
  }
 ],
 "metadata": {
  "kernelspec": {
   "display_name": "Python 3",
   "language": "python",
   "name": "python3"
  },
  "language_info": {
   "codemirror_mode": {
    "name": "ipython",
    "version": 3
   },
   "file_extension": ".py",
   "mimetype": "text/x-python",
   "name": "python",
   "nbconvert_exporter": "python",
   "pygments_lexer": "ipython3",
   "version": "3.6.1"
  }
 },
 "nbformat": 4,
 "nbformat_minor": 2
}
